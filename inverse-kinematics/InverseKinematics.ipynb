{
 "cells": [
  {
   "cell_type": "code",
   "execution_count": 1,
   "id": "ba264f20",
   "metadata": {},
   "outputs": [],
   "source": [
    "import numpy as np\n",
    "import matplotlib.pyplot as plt"
   ]
  },
  {
   "cell_type": "code",
   "execution_count": 2,
   "id": "10803e76",
   "metadata": {},
   "outputs": [],
   "source": [
    "# Computes the value of the goal-attraction cost.\n",
    "# Returns the cost\n",
    "def goal_attraction(e_phi: np.ndarray, # Current end effector coords\n",
    "                    g: np.ndarray # Goal end effector coords\n",
    "                    ) -> float:\n",
    "    c = np.linalg.norm(e_phi - g)\n",
    "    return c"
   ]
  },
  {
   "cell_type": "code",
   "execution_count": 3,
   "id": "d4e28512",
   "metadata": {},
   "outputs": [],
   "source": [
    "# Computes the value of the field potential for obstacle avoidance\n",
    "# Returns the cost\n",
    "def F_R(d: float # Distance between end effector and obstacle\n",
    "        ) -> float:\n",
    "    R = 50\n",
    "    cost = 2\n",
    "    if (d <= R) and (d > 0):\n",
    "        cost = np.log(R/d)\n",
    "    elif (d > R):\n",
    "        cost = 0\n",
    "    return cost"
   ]
  },
  {
   "cell_type": "code",
   "execution_count": 4,
   "id": "4f1ca177",
   "metadata": {},
   "outputs": [],
   "source": [
    "# Computes the value of the field potential for joint-limit cost\n",
    "# Returns the cost\n",
    "def L(phi: float # Joint angle\n",
    "      ) -> float:\n",
    "    phi_min = 0\n",
    "    phi_max = 180\n",
    "    delta = 10\n",
    "    cost = 2\n",
    "    \n",
    "    if (phi > phi_min) and (phi <= (phi_min+delta)):\n",
    "        cost = np.log(phi / (phi-phi_min))\n",
    "    elif (phi > phi_min + delta) and (phi < phi_max - delta):\n",
    "        cost = 0\n",
    "    elif (phi >= phi_max - delta) and (phi < phi_max):\n",
    "        cost = np.log(phi / (phi_max - phi))\n",
    "    \n",
    "    return cost"
   ]
  },
  {
   "cell_type": "code",
   "execution_count": 5,
   "id": "b87f2e79",
   "metadata": {},
   "outputs": [],
   "source": [
    "def end_effector(phi):\n",
    "    theta_array = phi\n",
    "    \n",
    "    arm_position = [5, 5, 0]\n",
    "    length_array = [2, 5, 5, 5]\n",
    "    \n",
    "    T_01 = np.array([[np.cos(theta_arr[0]), -np.sin(theta_arr[0]), 0.0, arm_position[0]],\n",
    "                     [np.sin(theta_arr[0]), np.cos(theta_arr[0]) , 0.0, arm_position[1]],\n",
    "                     [0.0                 , 0.0                  , 1.0, arm_position[2]],\n",
    "                     [0.0                 , 0.0                  , 0.0,             1.0]]\n",
    "                   )\n",
    "    # Frame 1 written w.r.t. Frame 2\n",
    "    T_12 = np.array([[np.cos(theta_arr[1]) , 0.0, np.sin(theta_arr[1]), 0.0],\n",
    "                     [0.0                  , 1.0, 0.0                 , 0.0],\n",
    "                     [-np.sin(theta_arr[1]), 0.0, np.cos(theta_arr[1]), length_arr[0]],\n",
    "                     [0.0                  , 0.0, 0.0                 , 1.0]]\n",
    "                   )\n",
    "    # Frame 3 written w.r.t. Frame 2\n",
    "    T_23 = np.array([[np.cos(theta_arr[2]) , 0.0, np.sin(theta_arr[2]), 0.0],\n",
    "                     [0.0                  , 1.0, 0.0                 , 0.0],\n",
    "                     [-np.sin(theta_arr[2]), 0.0, np.cos(theta_arr[2]), length_arr[1]],\n",
    "                     [0.0                  , 0.0, 0.0                 , 1.0]]\n",
    "                   )\n",
    "    # Frame 4 written w.r.t. Frame 3\n",
    "    T_34 = np.array([[np.cos(theta_arr[3]) , 0.0, np.sin(theta_arr[3]), 0.0],\n",
    "                     [0.0                  , 1.0, 0.0                 , 0.0],\n",
    "                     [-np.sin(theta_arr[3]), 0.0, np.cos(theta_arr[3]), length_arr[2]],\n",
    "                     [0.0                  , 0.0, 0.0                 , 1.0]]\n",
    "                   ) \n",
    "    \n",
    "    # Local-to-global transformation matrices \n",
    "    T_04 = T_01 @ T_12 @ T_23 @ T_34                    # Frame 4 written w.r.t. Frame 0\n",
    "    e = T_04[0:3, 3]\n",
    "    \n",
    "    return e "
   ]
  },
  {
   "cell_type": "code",
   "execution_count": 6,
   "id": "0d7bd5c1",
   "metadata": {},
   "outputs": [],
   "source": [
    "# Minimize the cost\n",
    "def cost_minimize():\n",
    "\n",
    "    # Delta change in each angle\n",
    "    deltas = [0.1, 0.1, 0.1, 0.1]\n",
    "\n",
    "    # Delta change in each angle in matrix form, for easier addition\n",
    "    deltas_matrix = np.array([\n",
    "                      [0.1, 0, 0, 0],\n",
    "                      [0, 0.1, 0, 0],\n",
    "                      [0, 0, 0.1, 0],\n",
    "                      [0, 0, 0, 0.1]])\n",
    "\n",
    "    gradient = np.empty((1, 1))\n",
    "\n",
    "    # For each angle in arm\n",
    "    for i in range(4) :\n",
    "\n",
    "        # Calculate components of gradient\n",
    "        deltaC = ( C(Phi + deltas_matrix[i], goal) - C(Phi, goal) ) / deltas[i]\n",
    "\n",
    "        # Add to gradient\n",
    "        gradient.append(deltaC)"
   ]
  },
  {
   "cell_type": "code",
   "execution_count": null,
   "id": "538e8619",
   "metadata": {},
   "outputs": [],
   "source": [
    "# Cost function\n",
    "def C(phi: float, # Angle\n",
    "      goal_location: np.ndarray # Location of the goal\n",
    "      ): \n",
    "    # Goal (target location) \n",
    "    g = np.array([[30],[50],[10]])\n",
    "\n",
    "    # Current joint-angle configuration\n",
    "    phi = np.array([[0],[11],[22],[33]])\n",
    "\n",
    "    # End-effector location \n",
    "    e_phi = end_effector(phi)\n",
    "\n",
    "    # Obstacles \n",
    "    num_obstacles = 3\n",
    "\n",
    "    # Location of obstacles \n",
    "    obstacle = np.array([[10,10,10], \n",
    "                         [15,10,10], \n",
    "                         [20,20,10]])\n",
    "\n",
    "    cost = 0\n",
    "\n",
    "    # Goal attraction?\n",
    "    cost = np.linalg.norm(e_phi - g) \n",
    "    print(cost)\n",
    "\n",
    "    # Obstacle avoidance penalty\n",
    "    cost += sum(F_R(np.linalg.norm(e_phi - obstacle[:,j])) for j in range(num_obstacles))\n",
    "    print(cost)\n",
    "\n",
    "    # Joint-range limit\n",
    "    cost += sum(L(p) for p in phi)  \n",
    "    print(cost)\n",
    "    return cost"
   ]
  },
  {
   "cell_type": "code",
   "execution_count": 7,
   "id": "83d127cd",
   "metadata": {},
   "outputs": [],
   "source": [
    "# Computes the value of the function at x\n",
    "# Returns 3x4 Jacobian\n",
    "def J(phi: float # Angle\n",
    "      ):\n",
    "    \n",
    "    delta = 0.1    \n",
    "    deltas = np.array([\n",
    "                      [0.1, 0, 0, 0],\n",
    "                      [0, 0.1, 0, 0],\n",
    "                      [0, 0, 0.1, 0],\n",
    "                      [0, 0, 0, 0.1]])\n",
    "    \n",
    "    J = np.empty((3, 1))\n",
    "    \n",
    "    for i in range(4): \n",
    "        e_delta = ( end_effector(phi + deltas[i]) - end_effector(phi))\n",
    "        DxDphi = e_delta[0] / delta\n",
    "        DyDphi = e_delta[1] / delta\n",
    "        DzDphi = e_delta[2] / delta\n",
    "        J = np.concatenate( (J, np.array([[DxDphi], [DyDphi], [DzDphi]])), axis=1)\n",
    "    return J[:,1:5]\n"
   ]
  },
  {
   "cell_type": "code",
   "execution_count": 14,
   "id": "23537e15",
   "metadata": {},
   "outputs": [],
   "source": [
    "# Solves the inverse kinematic problem by using gradient descent\n",
    "def gradient_descent_IK(pos, target_pos): \n",
    "    delta_f = target_pos - pos           # Difference between predicted and target\n",
    "    dist = np.linalg.norm(delta_f)          # Distance from target\n",
    "    phi = \n",
    "    jacobian = J(phi)              # Compute the Jacobian for the current pose\n",
    "    jacobian_inverse = np.linalg.inv(jacobian)                 # Invert the Jacobian matrix\n",
    "    delta_pos_mapped = jacobian_inverse @ delta_f       # Compute the change in pose\n",
    "    f_predicted = f(pos + delta_pos_mapped) # Apply change to joint angles\n",
    "    \n",
    "    print(uv_g)\n",
    "    return uv_g"
   ]
  },
  {
   "cell_type": "code",
   "execution_count": 15,
   "id": "9c340640",
   "metadata": {},
   "outputs": [
    {
     "ename": "NameError",
     "evalue": "name 'phi' is not defined",
     "output_type": "error",
     "traceback": [
      "\u001b[1;31m---------------------------------------------------------------------------\u001b[0m",
      "\u001b[1;31mNameError\u001b[0m                                 Traceback (most recent call last)",
      "\u001b[1;32m~\\AppData\\Local\\Temp/ipykernel_15580/3012828795.py\u001b[0m in \u001b[0;36m<module>\u001b[1;34m\u001b[0m\n\u001b[0;32m      1\u001b[0m \u001b[0mcurrent\u001b[0m \u001b[1;33m=\u001b[0m \u001b[0mnp\u001b[0m\u001b[1;33m.\u001b[0m\u001b[0marray\u001b[0m\u001b[1;33m(\u001b[0m\u001b[1;33m[\u001b[0m\u001b[1;33m[\u001b[0m\u001b[1;36m0\u001b[0m\u001b[1;33m]\u001b[0m\u001b[1;33m,\u001b[0m\u001b[1;33m[\u001b[0m\u001b[1;36m0\u001b[0m\u001b[1;33m]\u001b[0m\u001b[1;33m,\u001b[0m\u001b[1;33m[\u001b[0m\u001b[1;36m0\u001b[0m\u001b[1;33m]\u001b[0m\u001b[1;33m]\u001b[0m\u001b[1;33m)\u001b[0m\u001b[1;33m\u001b[0m\u001b[1;33m\u001b[0m\u001b[0m\n\u001b[0;32m      2\u001b[0m \u001b[0mgoal\u001b[0m \u001b[1;33m=\u001b[0m \u001b[0mnp\u001b[0m\u001b[1;33m.\u001b[0m\u001b[0marray\u001b[0m\u001b[1;33m(\u001b[0m\u001b[1;33m[\u001b[0m\u001b[1;33m[\u001b[0m\u001b[1;36m10\u001b[0m\u001b[1;33m]\u001b[0m\u001b[1;33m,\u001b[0m\u001b[1;33m[\u001b[0m\u001b[1;36m10\u001b[0m\u001b[1;33m]\u001b[0m\u001b[1;33m,\u001b[0m\u001b[1;33m[\u001b[0m\u001b[1;36m10\u001b[0m\u001b[1;33m]\u001b[0m\u001b[1;33m]\u001b[0m\u001b[1;33m)\u001b[0m\u001b[1;33m\u001b[0m\u001b[1;33m\u001b[0m\u001b[0m\n\u001b[1;32m----> 3\u001b[1;33m \u001b[0mgradient_descent_IK\u001b[0m\u001b[1;33m(\u001b[0m\u001b[0mcurrent\u001b[0m\u001b[1;33m,\u001b[0m \u001b[0mgoal\u001b[0m\u001b[1;33m)\u001b[0m\u001b[1;33m\u001b[0m\u001b[1;33m\u001b[0m\u001b[0m\n\u001b[0m",
      "\u001b[1;32m~\\AppData\\Local\\Temp/ipykernel_15580/3255660803.py\u001b[0m in \u001b[0;36mgradient_descent_IK\u001b[1;34m(pos, target_pos)\u001b[0m\n\u001b[0;32m      4\u001b[0m     \u001b[0mdist\u001b[0m \u001b[1;33m=\u001b[0m \u001b[0mnp\u001b[0m\u001b[1;33m.\u001b[0m\u001b[0mlinalg\u001b[0m\u001b[1;33m.\u001b[0m\u001b[0mnorm\u001b[0m\u001b[1;33m(\u001b[0m\u001b[0mdelta_f\u001b[0m\u001b[1;33m)\u001b[0m          \u001b[1;31m# Distance from target\u001b[0m\u001b[1;33m\u001b[0m\u001b[1;33m\u001b[0m\u001b[0m\n\u001b[0;32m      5\u001b[0m \u001b[1;33m\u001b[0m\u001b[0m\n\u001b[1;32m----> 6\u001b[1;33m     \u001b[0mjacobian\u001b[0m \u001b[1;33m=\u001b[0m \u001b[0mJ\u001b[0m\u001b[1;33m(\u001b[0m\u001b[0mphi\u001b[0m\u001b[1;33m)\u001b[0m              \u001b[1;31m# Compute the Jacobian for the current pose\u001b[0m\u001b[1;33m\u001b[0m\u001b[1;33m\u001b[0m\u001b[0m\n\u001b[0m\u001b[0;32m      7\u001b[0m     \u001b[0mjacobian_inverse\u001b[0m \u001b[1;33m=\u001b[0m \u001b[0mnp\u001b[0m\u001b[1;33m.\u001b[0m\u001b[0mlinalg\u001b[0m\u001b[1;33m.\u001b[0m\u001b[0minv\u001b[0m\u001b[1;33m(\u001b[0m\u001b[0mjacobian\u001b[0m\u001b[1;33m)\u001b[0m                 \u001b[1;31m# Invert the Jacobian matrix\u001b[0m\u001b[1;33m\u001b[0m\u001b[1;33m\u001b[0m\u001b[0m\n\u001b[0;32m      8\u001b[0m     \u001b[0mdelta_pos_mapped\u001b[0m \u001b[1;33m=\u001b[0m \u001b[0mjacobian_inverse\u001b[0m \u001b[1;33m@\u001b[0m \u001b[0mdelta_f\u001b[0m       \u001b[1;31m# Compute the change in pose\u001b[0m\u001b[1;33m\u001b[0m\u001b[1;33m\u001b[0m\u001b[0m\n",
      "\u001b[1;31mNameError\u001b[0m: name 'phi' is not defined"
     ]
    }
   ],
   "source": [
    "current = np.array([[0],[0],[0]])\n",
    "goal = np.array([[10],[10],[10]])\n",
    "gradient_descent_IK(current, goal)"
   ]
  },
  {
   "cell_type": "code",
   "execution_count": null,
   "id": "b6e32e2a",
   "metadata": {},
   "outputs": [],
   "source": []
  }
 ],
 "metadata": {
  "kernelspec": {
   "display_name": "Python 3 (ipykernel)",
   "language": "python",
   "name": "python3"
  },
  "language_info": {
   "codemirror_mode": {
    "name": "ipython",
    "version": 3
   },
   "file_extension": ".py",
   "mimetype": "text/x-python",
   "name": "python",
   "nbconvert_exporter": "python",
   "pygments_lexer": "ipython3",
   "version": "3.9.7"
  }
 },
 "nbformat": 4,
 "nbformat_minor": 5
}
